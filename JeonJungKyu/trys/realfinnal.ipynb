{
 "cells": [
  {
   "cell_type": "code",
   "id": "initial_id",
   "metadata": {
    "collapsed": true,
    "ExecuteTime": {
     "end_time": "2025-04-28T01:18:38.344369Z",
     "start_time": "2025-04-28T01:18:38.340172Z"
    }
   },
   "source": [
    "from datetime import datetime\n",
    "import mysql.connector\n",
    "import streamlit as st\n",
    "import mysql.connector\n",
    "from dotenv import load_dotenv\n",
    "import os\n",
    "import requests\n",
    "from bs4 import BeautifulSoup\n",
    "import openai\n",
    "from gtts import gTTS\n",
    "from io import BytesIO"
   ],
   "outputs": [],
   "execution_count": 2
  },
  {
   "metadata": {
    "ExecuteTime": {
     "end_time": "2025-04-28T01:19:43.768807Z",
     "start_time": "2025-04-28T01:19:43.761324Z"
    }
   },
   "cell_type": "code",
   "source": [
    "NAVER_CLIENT_ID = os.getenv(\"NAVER_CLIENT_ID\")\n",
    "NAVER_CLIENT_SECRET = os.getenv(\"NAVER_CLIENT_SECRET\")\n",
    "load_dotenv()\n",
    "db_config = {\n",
    "    'host': os.getenv('DB_HOST'),\n",
    "    'user': os.getenv('DB_USER'),\n",
    "    'password': os.getenv('DB_PASSWORD'),\n",
    "    'database': os.getenv('DB_NAME')\n",
    "}\n",
    "openai.api_key = os.getenv(\"OPEN_AI_API\")"
   ],
   "id": "c808b1394a6bdca9",
   "outputs": [],
   "execution_count": 7
  },
  {
   "metadata": {
    "ExecuteTime": {
     "end_time": "2025-04-28T01:19:45.029976Z",
     "start_time": "2025-04-28T01:19:45.026182Z"
    }
   },
   "cell_type": "code",
   "source": [
    "## 실제로 찍으면안됨\n",
    "\n",
    "if not NAVER_CLIENT_ID or not NAVER_CLIENT_SECRET:\n",
    "    raise ValueError(\"NAVER_CLIENT_ID and NAVER_CLIENT_SECRET 이 설정되지 않았습니다\")"
   ],
   "id": "2feca371d70a4aa9",
   "outputs": [],
   "execution_count": 8
  },
  {
   "metadata": {
    "ExecuteTime": {
     "end_time": "2025-04-28T01:19:47.931933Z",
     "start_time": "2025-04-28T01:19:47.925537Z"
    }
   },
   "cell_type": "code",
   "source": [
    "\n",
    "class NaverNews:\n",
    "    def __init__(self, id: int, title: str, originallink: str, link: str, description: str, pubDate: str, created_at: datetime=None):\n",
    "        self.__id = id\n",
    "        self.__title = title\n",
    "        self.__originallink = originallink\n",
    "        self.__link = link\n",
    "        self.__description = description\n",
    "        self.__pubDate = pubDate\n",
    "        self.__created_at = created_at\n",
    "\n",
    "    @property\n",
    "    def id(self):\n",
    "        return self.__id\n",
    "\n",
    "    @property\n",
    "    def title(self):\n",
    "        return self.__title\n",
    "\n",
    "    # __title속성에 대한 setter 메소드\n",
    "    # @title.setter\n",
    "    # def title(self, value):\n",
    "    #     self.__title = value\n",
    "\n",
    "    @property\n",
    "    def originallink(self):\n",
    "        return self.__originallink\n",
    "\n",
    "    @property\n",
    "    def link(self):\n",
    "        return self.__link\n",
    "\n",
    "    @property\n",
    "    def description(self):\n",
    "        return self.__description\n",
    "\n",
    "    @property\n",
    "    def pubDate(self):\n",
    "        return self.__pubDate\n",
    "\n",
    "    @property\n",
    "    def created_at(self):\n",
    "        return self.__created_at\n",
    "\n",
    "    def __repr__(self):\n",
    "        return f'NaverNews({self.__id}, {self.__title}, {self.__originallink}, {self.__link}, {self.__description}, {self.__pubDate}, {self.__created_at})'"
   ],
   "id": "3cc2fc46d9343e6f",
   "outputs": [],
   "execution_count": 9
  },
  {
   "metadata": {
    "ExecuteTime": {
     "end_time": "2025-04-28T01:19:55.130589Z",
     "start_time": "2025-04-28T01:19:51.430931Z"
    }
   },
   "cell_type": "code",
   "source": [
    "\n",
    "\n",
    "url = 'https://openapi.naver.com/v1/search/news.json'\n",
    "\n",
    "headers = {\n",
    "    \"X-Naver-Client-Id\": NAVER_CLIENT_ID,\n",
    "    \"X-Naver-Client-Secret\": NAVER_CLIENT_SECRET\n",
    "}\n",
    "user_input = input('교통사고입력')\n",
    "# 사용자입력값 (query string)\n",
    "params = {\n",
    "    'query': f'{user_input} 교통사고',\n",
    "    'display': 3, # 10 ~ 100\n",
    "    'start': 1,\n",
    "    'sort': 'sim', # sim | date\n",
    "}\n",
    "\n",
    "# 요청\n",
    "response = requests.get(url, headers=headers, params=params)\n",
    "\n",
    "naver_news_list: list[NaverNews] = []\n",
    "\n",
    "# 결과출력\n",
    "if response.status_code == 200:\n",
    "    # print(response.text) # json문자열 확인\n",
    "    data = response.json() # json형식의 데이터를 dict 변환\n",
    "    items = data['items']\n",
    "    for item in items:\n",
    "        naver_news_list.append(NaverNews(None, **item))\n",
    "    print(naver_news_list)\n",
    "else:\n",
    "    print(\"Error Code:\" + response.status_code)"
   ],
   "id": "5e8fa0372e54bc2d",
   "outputs": [
    {
     "name": "stdout",
     "output_type": "stream",
     "text": [
      "[NaverNews(None, &quot;어르신 운전중입니다&quot;…<b>서울시</b>, 차량 4600대에 표지판 부착, https://www.newsis.com/view/NISX20250427_0003155174, https://n.news.naver.com/mnews/article/003/0013209082?sid=102, 지난해 <b>서울시</b>의 65세 이상 고령 운전자 <b>교통사고</b> 건수는 전년 대비 5.6% 증가한 것으로 나타났다. 특히, 사망자 수는 57.1% 급증했다. 실제 '어르신 운전중' 표지 부착 효과도 확인되고 있다. 지난해 한국<b>교통</b>안전공단... , Mon, 28 Apr 2025 06:00:00 +0900, None), NaverNews(None, <b>서울시</b>, 고령운전자에 '어르신 운전중' 표지 4천600매 배부, https://www.yna.co.kr/view/AKR20250425170700004?input=1195m, https://n.news.naver.com/mnews/article/001/0015355265?sid=102, 작년 고령운전 <b>교통사고</b> 5.6% 늘고 사망자 57% 급증 <b>서울시</b> 자치경찰위원회(자경위)는 65세 이상 고령자가 운전하는 차량에 부착할 수 있는 '어르신 운전중' 표지를 제작해 배부한다고 28일 밝혔다. 가정의 달을 맞아 표지... , Mon, 28 Apr 2025 06:00:00 +0900, None), NaverNews(None, <b>교통사고</b> 사망 주는데, 고령운전 사망 3년째 증가, https://www.donga.com/news/Society/article/all/20250428/131503233/2, https://n.news.naver.com/mnews/article/020/0003631379?sid=102, 경찰청에 따르면 지난해 가해자가 고령 운전자인 <b>교통사고</b>의 사망자는 761명으로, 2022년(735명), 2023년(745명)... <b>서울 시</b>내 주요 도로의 제한속도는 시속 50km다. 0.5초면 차가 약 6.5m를 더 나간다. 횡단보도 앞에서 차가... , Mon, 28 Apr 2025 03:04:00 +0900, None)]\n"
     ]
    }
   ],
   "execution_count": 10
  },
  {
   "metadata": {
    "ExecuteTime": {
     "end_time": "2025-04-28T01:20:04.851789Z",
     "start_time": "2025-04-28T01:20:04.826501Z"
    }
   },
   "cell_type": "code",
   "source": [
    "try:\n",
    "    with mysql.connector.connect(**db_config) as conn:\n",
    "        with conn.cursor() as cursor:\n",
    "            # naver_news객체를 한번에 한건씩 insert처리\n",
    "            for naver_news in naver_news_list:\n",
    "                cursor.execute('''\n",
    "                    insert into\n",
    "                        naver_news (title, originallink, link, description, pub_date)\n",
    "                    values (%s, %s, %s, %s, %s)\n",
    "                ''', (naver_news.title, naver_news.originallink, naver_news.link, naver_news.description, naver_news.pubDate)) # sql, params\n",
    "            # 트랜잭션 처리를 위해 모든 dml 작업후 마지막에 처리\n",
    "            conn.commit()\n",
    "except mysql.connector.Error as e:\n",
    "    print('DB 오류:', e)"
   ],
   "id": "e489f3babe117173",
   "outputs": [],
   "execution_count": 11
  },
  {
   "metadata": {
    "ExecuteTime": {
     "end_time": "2025-04-28T01:20:07.860076Z",
     "start_time": "2025-04-28T01:20:07.854772Z"
    }
   },
   "cell_type": "code",
   "source": [
    "HEADERS = {\n",
    "    \"User-Agent\": (\n",
    "        \"Mozilla/5.0 (Windows NT 10.0; Win64; x64) \"\n",
    "        \"AppleWebKit/537.36 (KHTML, like Gecko) \"\n",
    "        \"Chrome/89.0.4389.114 Safari/537.36\"\n",
    "    )\n",
    "} ## 유저인척하기\n",
    "\n",
    "\n",
    "# ── 3) 유틸: HTML 전처리 ─────────────────────────\n",
    "def clean_html(soup: BeautifulSoup):\n",
    "    for tag in soup.select(\"script, style, aside, .ad, .related-article\"):\n",
    "        tag.decompose()\n",
    "\n",
    "\n",
    "# ── 4) 전체 텍스트 가져오기 ─────────────────────\n",
    "def get_html_text(url: str) -> str:\n",
    "    try:\n",
    "        res = requests.get(url, headers=HEADERS, timeout=10)\n",
    "        res.raise_for_status()\n",
    "        soup = BeautifulSoup(res.text, \"html.parser\")\n",
    "        clean_html(soup)\n",
    "        return soup.get_text(separator=\"\\n\")\n",
    "    except Exception:\n",
    "        return \"\"\n",
    "\n",
    "\n",
    "# ── 5) 요약하기 (공백 정리 추가) ─────────────────\n",
    "def summarize_text(text: str) -> str:\n",
    "    cleaned_text = \"\\n\".join(\n",
    "        line.strip() for line in text.splitlines() if line.strip()\n",
    "    )\n",
    "\n",
    "    prompt = f\"\"\"\n",
    "    다음 웹페이지 텍스트를 읽고 중요 기사 내용만 3줄로 요약해줘.\n",
    "    메뉴, 광고, 댓글, 저작권 문구는 무시해줘.\n",
    "\n",
    "    {cleaned_text}\n",
    "    \"\"\"\n",
    "    resp = openai.chat.completions.create(\n",
    "        model=\"gpt-4o\",\n",
    "        messages=[{\"role\": \"user\", \"content\": prompt}],\n",
    "        temperature=0.5,\n",
    "    )\n",
    "    return resp.choices[0].message.content.strip()\n",
    "\n"
   ],
   "id": "df2efb9d443acaae",
   "outputs": [],
   "execution_count": 12
  },
  {
   "metadata": {
    "ExecuteTime": {
     "end_time": "2025-04-28T01:20:10.884400Z",
     "start_time": "2025-04-28T01:20:10.842461Z"
    }
   },
   "cell_type": "code",
   "source": [
    "st.title(\"📰 뉴스 요약 & TTS 변환\")\n",
    "\n",
    "st.caption(\"네이버 뉴스 원문 링크를 요약하고 음성으로 변환합니다.\")\n",
    "\n",
    "if st.button(\"📝 뉴스 요약 시작\"):\n",
    "    try:\n",
    "        conn = mysql.connector.connect(**db_config)\n",
    "        cur = conn.cursor()\n",
    "        cur.execute(\"SELECT originallink FROM naver_news\")\n",
    "        urls = [r[0] for r in cur.fetchall()]\n",
    "        cur.close()\n",
    "        conn.close()\n",
    "    except Exception as e:\n",
    "        st.error(f\"DB 오류: {e}\")\n",
    "        urls = []\n",
    "\n",
    "    for idx, url in enumerate(urls, start=1):\n",
    "        with st.container():\n",
    "            st.markdown(f\"### 🔗 뉴스 #{idx}\")\n",
    "            st.markdown(f\"[{url}]({url})\")\n",
    "\n",
    "            article = get_html_text(url)\n",
    "            if not article:\n",
    "                st.error(\"❗ 전체 텍스트 가져오기 실패\")\n",
    "                continue\n",
    "\n",
    "            summary = summarize_text(article)\n",
    "\n",
    "            if \"무단 전재\" in summary or \"재배포 금지\" in summary:\n",
    "                st.warning(\"🚫 해당 기사는 TTS가 불가합니다. (무단 전재 문구 포함)\")\n",
    "                continue\n",
    "\n",
    "            st.success(\"✨ 요약 결과\")\n",
    "            st.write(summary)\n",
    "\n",
    "            tts = gTTS(text=summary, lang=\"ko\")\n",
    "            buf = BytesIO()\n",
    "            tts.write_to_fp(buf)\n",
    "\n",
    "            st.audio(buf.getvalue(), format=\"audio/mp3\")\n",
    "\n",
    "        st.markdown(\"---\")  # 구분선 추가"
   ],
   "id": "d846d5ff8fbb382a",
   "outputs": [
    {
     "name": "stderr",
     "output_type": "stream",
     "text": [
      "2025-04-28 10:20:10.847 WARNING streamlit.runtime.scriptrunner_utils.script_run_context: Thread 'MainThread': missing ScriptRunContext! This warning can be ignored when running in bare mode.\n",
      "2025-04-28 10:20:10.875 \n",
      "  \u001B[33m\u001B[1mWarning:\u001B[0m to view this Streamlit app on a browser, run it with the following\n",
      "  command:\n",
      "\n",
      "    streamlit run C:\\Users\\Playdata2\\miniconda3\\Lib\\site-packages\\ipykernel_launcher.py [ARGUMENTS]\n",
      "2025-04-28 10:20:10.876 Thread 'MainThread': missing ScriptRunContext! This warning can be ignored when running in bare mode.\n",
      "2025-04-28 10:20:10.877 Thread 'MainThread': missing ScriptRunContext! This warning can be ignored when running in bare mode.\n",
      "2025-04-28 10:20:10.877 Thread 'MainThread': missing ScriptRunContext! This warning can be ignored when running in bare mode.\n",
      "2025-04-28 10:20:10.878 Thread 'MainThread': missing ScriptRunContext! This warning can be ignored when running in bare mode.\n",
      "2025-04-28 10:20:10.880 Thread 'MainThread': missing ScriptRunContext! This warning can be ignored when running in bare mode.\n",
      "2025-04-28 10:20:10.880 Thread 'MainThread': missing ScriptRunContext! This warning can be ignored when running in bare mode.\n",
      "2025-04-28 10:20:10.881 Thread 'MainThread': missing ScriptRunContext! This warning can be ignored when running in bare mode.\n",
      "2025-04-28 10:20:10.882 Thread 'MainThread': missing ScriptRunContext! This warning can be ignored when running in bare mode.\n"
     ]
    }
   ],
   "execution_count": 13
  }
 ],
 "metadata": {
  "kernelspec": {
   "display_name": "Python 3",
   "language": "python",
   "name": "python3"
  },
  "language_info": {
   "codemirror_mode": {
    "name": "ipython",
    "version": 2
   },
   "file_extension": ".py",
   "mimetype": "text/x-python",
   "name": "python",
   "nbconvert_exporter": "python",
   "pygments_lexer": "ipython2",
   "version": "2.7.6"
  }
 },
 "nbformat": 4,
 "nbformat_minor": 5
}

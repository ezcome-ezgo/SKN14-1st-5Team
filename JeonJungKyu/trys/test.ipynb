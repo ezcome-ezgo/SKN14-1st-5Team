{
 "cells": [
  {
   "cell_type": "code",
   "id": "initial_id",
   "metadata": {
    "collapsed": true,
    "ExecuteTime": {
     "end_time": "2025-04-28T00:46:10.212855Z",
     "start_time": "2025-04-28T00:46:04.176972Z"
    }
   },
   "source": [
    "from markdown_it.rules_block import table\n",
    "!pip install python-dotenv\n",
    "!pip install lxml\n",
    "!pip install lxml[html_clean]"
   ],
   "outputs": [
    {
     "name": "stdout",
     "output_type": "stream",
     "text": [
      "Requirement already satisfied: python-dotenv in c:\\users\\playdata2\\miniconda3\\lib\\site-packages (1.1.0)\n",
      "Requirement already satisfied: lxml in c:\\users\\playdata2\\miniconda3\\lib\\site-packages (5.4.0)\n",
      "Requirement already satisfied: lxml[html_clean] in c:\\users\\playdata2\\miniconda3\\lib\\site-packages (5.4.0)\n",
      "Requirement already satisfied: lxml_html_clean in c:\\users\\playdata2\\miniconda3\\lib\\site-packages (from lxml[html_clean]) (0.4.2)\n"
     ]
    }
   ],
   "execution_count": 2
  },
  {
   "metadata": {},
   "cell_type": "code",
   "outputs": [],
   "execution_count": null,
   "source": "# pip install mysql-connector-python <- 터미널에 설치",
   "id": "f14571057cbe4c4f"
  },
  {
   "metadata": {
    "ExecuteTime": {
     "end_time": "2025-04-25T23:35:06.609537Z",
     "start_time": "2025-04-25T23:35:03.374844Z"
    }
   },
   "cell_type": "code",
   "source": "!pip install requests",
   "id": "d62179f50f583ea8",
   "outputs": [
    {
     "name": "stdout",
     "output_type": "stream",
     "text": [
      "Requirement already satisfied: requests in c:\\users\\playdata2\\miniconda3\\lib\\site-packages (2.32.3)\n",
      "Requirement already satisfied: charset-normalizer<4,>=2 in c:\\users\\playdata2\\miniconda3\\lib\\site-packages (from requests) (3.3.2)\n",
      "Requirement already satisfied: idna<4,>=2.5 in c:\\users\\playdata2\\miniconda3\\lib\\site-packages (from requests) (3.7)\n",
      "Requirement already satisfied: urllib3<3,>=1.21.1 in c:\\users\\playdata2\\miniconda3\\lib\\site-packages (from requests) (2.3.0)\n",
      "Requirement already satisfied: certifi>=2017.4.17 in c:\\users\\playdata2\\miniconda3\\lib\\site-packages (from requests) (2025.1.31)\n"
     ]
    }
   ],
   "execution_count": 2
  },
  {
   "metadata": {
    "ExecuteTime": {
     "end_time": "2025-04-28T00:46:12.826115Z",
     "start_time": "2025-04-28T00:46:12.809556Z"
    }
   },
   "cell_type": "code",
   "source": [
    "from dotenv import load_dotenv\n",
    "load_dotenv()"
   ],
   "id": "695ba1fc758154a4",
   "outputs": [
    {
     "data": {
      "text/plain": [
       "True"
      ]
     },
     "execution_count": 3,
     "metadata": {},
     "output_type": "execute_result"
    }
   ],
   "execution_count": 3
  },
  {
   "metadata": {
    "ExecuteTime": {
     "end_time": "2025-04-28T00:46:13.627436Z",
     "start_time": "2025-04-28T00:46:13.623748Z"
    }
   },
   "cell_type": "code",
   "source": [
    "import os\n",
    "NAVER_CLIENT_ID = os.getenv(\"NAVER_CLIENT_ID\")\n",
    "NAVER_CLIENT_SECRET = os.getenv(\"NAVER_CLIENT_SECRET\")\n",
    "## 실제로 찍으면안됨\n",
    "\n",
    "if not NAVER_CLIENT_ID or not NAVER_CLIENT_SECRET:\n",
    "    raise ValueError(\"NAVER_CLIENT_ID and NAVER_CLIENT_SECRET 이 설정되지 않았습니다\")"
   ],
   "id": "ec8a9900a4305057",
   "outputs": [],
   "execution_count": 4
  },
  {
   "metadata": {},
   "cell_type": "markdown",
   "source": [
    "## 테이블/모델 설계\n",
    "테이블과 매칭되는 **엔티티클래스**를 설계한다.\n",
    "\n",
    "```sql\n",
    "use team5_db;\n",
    "create table team5_db.transit_news (\n",
    "    id int primary key auto_increment,\n",
    "    title varchar(512),\n",
    "    originallink varchar(512) UNIQUE,\n",
    "    link varchar(512),\n",
    "    description text,\n",
    "    pub_date varchar(512),\n",
    "    created_at datetime default (current_timestamp)\n",
    ");\n",
    "```"
   ],
   "id": "b5c166cccc023215"
  },
  {
   "metadata": {
    "ExecuteTime": {
     "end_time": "2025-04-28T00:46:16.157222Z",
     "start_time": "2025-04-28T00:46:16.150772Z"
    }
   },
   "cell_type": "code",
   "source": [
    "from datetime import datetime\n",
    "\n",
    "\"\"\"\n",
    "naver_news = NaverNews()\n",
    "print(naver_news.title) # @property getter 메소드\n",
    "naver_news.title = \"새 제목\" # @title.setter 메소드\n",
    "\"\"\"\n",
    "\n",
    "class NaverNews:\n",
    "    def __init__(self, id: int, title: str, originallink: str, link: str, description: str, pubDate: str, created_at: datetime=None):\n",
    "        self.__id = id\n",
    "        self.__title = title\n",
    "        self.__originallink = originallink\n",
    "        self.__link = link\n",
    "        self.__description = description\n",
    "        self.__pubDate = pubDate\n",
    "        self.__created_at = created_at\n",
    "\n",
    "    @property\n",
    "    def id(self):\n",
    "        return self.__id\n",
    "\n",
    "    @property\n",
    "    def title(self):\n",
    "        return self.__title\n",
    "\n",
    "    # __title속성에 대한 setter 메소드\n",
    "    # @title.setter\n",
    "    # def title(self, value):\n",
    "    #     self.__title = value\n",
    "\n",
    "    @property\n",
    "    def originallink(self):\n",
    "        return self.__originallink\n",
    "\n",
    "    @property\n",
    "    def link(self):\n",
    "        return self.__link\n",
    "\n",
    "    @property\n",
    "    def description(self):\n",
    "        return self.__description\n",
    "\n",
    "    @property\n",
    "    def pubDate(self):\n",
    "        return self.__pubDate\n",
    "\n",
    "    @property\n",
    "    def created_at(self):\n",
    "        return self.__created_at\n",
    "\n",
    "    def __repr__(self):\n",
    "        return f'NaverNews({self.__id}, {self.__title}, {self.__originallink}, {self.__link}, {self.__description}, {self.__pubDate}, {self.__created_at})'"
   ],
   "id": "ad3a70f04a391ef8",
   "outputs": [],
   "execution_count": 5
  },
  {
   "metadata": {
    "ExecuteTime": {
     "end_time": "2025-04-26T10:36:04.677144Z",
     "start_time": "2025-04-26T10:36:00.154463Z"
    }
   },
   "cell_type": "code",
   "source": [
    "import requests\n",
    "from pprint import pprint\n",
    "\n",
    "url = 'https://openapi.naver.com/v1/search/news.json'\n",
    "\n",
    "headers = {\n",
    "    \"X-Naver-Client-Id\": NAVER_CLIENT_ID,\n",
    "    \"X-Naver-Client-Secret\": NAVER_CLIENT_SECRET\n",
    "}\n",
    "user_input = input('교통사고입력')\n",
    "# 사용자입력값 (query string)\n",
    "params = {\n",
    "    'query': user_input,\n",
    "    'display': 3, # 10 ~ 100\n",
    "    'start': 1,\n",
    "    'sort': 'sim', # sim | date\n",
    "}\n",
    "\n",
    "# 요청\n",
    "response = requests.get(url, headers=headers, params=params)\n",
    "\n",
    "naver_news_list: list[NaverNews] = []\n",
    "\n",
    "# 결과출력\n",
    "if response.status_code == 200:\n",
    "    # print(response.text) # json문자열 확인\n",
    "    data = response.json() # json형식의 데이터를 dict 변환\n",
    "    items = data['items']\n",
    "    for item in items:\n",
    "        naver_news_list.append(NaverNews(None, **item))\n",
    "    print(naver_news_list)\n",
    "else:\n",
    "    print(\"Error Code:\" + response.status_code)"
   ],
   "id": "3b43981f7216405a",
   "outputs": [
    {
     "name": "stdout",
     "output_type": "stream",
     "text": [
      "[NaverNews(None, <b>서울시</b>, 청계천서 수질오염<b>사고</b> 대비 방제훈련, https://www.newsis.com/view/NISX20250424_0003153003, https://n.news.naver.com/mnews/article/003/0013205255?sid=102, <b>서울시</b>는 지난 24일 성동구 신답역 청계천 하류에서 '수질오염<b>사고</b> 대응 방제훈련'을 실시했다고 25일... 현장 훈련은 차량 <b>교통사고</b>로 인해 유류가 하천으로 유입된 상황을 가정해 <b>사고</b> 접수 및 상황전파·보고... , Fri, 25 Apr 2025 06:00:00 +0900, None), NaverNews(None, 수질오염 <b>사고</b> 때 대응능력 강화…<b>서울시</b>, 청계천서 방제훈련, https://www.yna.co.kr/view/AKR20250424153400004?input=1195m, https://n.news.naver.com/mnews/article/001/0015351002?sid=102, <b>서울시</b>는 전날 성동구 신답역 청계천 하류에서 '수질오염<b>사고</b> 대응 방제훈련'을 했다고 25일 밝혔다. 이번... 현장훈련은 차량 <b>교통사고</b>로 인해 유류가 하천으로 유입된 상황을 가정해 ▲ <b>사고</b> 접수 및 상황전파·보고... , Fri, 25 Apr 2025 06:00:00 +0900, None), NaverNews(None, <b>서울시</b>, 청계천서 수질오염<b>사고</b> 대비 방제훈련 실시, http://news.mt.co.kr/mtview.php?no=2025042418172719006, https://n.news.naver.com/mnews/article/008/0005185780?sid=102, 이번 훈련에는 <b>서울시</b>와 자치구 담당자를 비롯해 미래한강본부, 서울아리수본부, <b>서울시</b>설공단, 한국환경공단, <b>서울시</b>보건환경연구원 등 약 70명이 참여했다. 현장 훈련은 차량 <b>교통사고</b>로 인해 유류가 하천으로... , Fri, 25 Apr 2025 09:12:00 +0900, None), NaverNews(None, “생활 만족도 1위는 강남권이 아닌데?”…이 동네, <b>교통</b>·육아·치안 다..., https://www.mk.co.kr/article/11297946, https://n.news.naver.com/mnews/article/009/0005480369?sid=100, 안전 환경에 대한 평가도 자연재해와 건축물 및 시설물, <b>교통사고</b> 등 모든 분야가 <b>서울시</b> 평균보다 높았다. ‘서울 서베이’ 조사에서 ‘보도 통행시 겪은 불편함’에 대한 질문에 자치구 중 제일 높은 비중으로 71.3%의... , Tue, 22 Apr 2025 10:37:00 +0900, None), NaverNews(None, [4월 25일(금) 오늘, <b>서울시</b>] 중장년 기술창업 '원스톱' 지원, https://www.dailian.co.kr/news/view/1490136/?sc=Naver, https://n.news.naver.com/mnews/article/119/0002949364?sid=102, 중장년 기술창업 활성화 <b>서울시</b> 서남부권 창업지원 시설인 '서울창업센터 동작'은 다음 달 16일까지 중장년... 현장훈련은 차량 <b>교통사고</b>로 인해 유류가 하천으로 유입된 상황을 가정해 ▲<b>사고</b> 접수 및 상황전파·보고... , Fri, 25 Apr 2025 10:01:00 +0900, None), NaverNews(None, 마포구, '생활 만족도' <b>서울시</b> 자치구 1위, https://daily.hankooki.com/news/articleView.html?idxno=1207533, https://daily.hankooki.com/news/articleView.html?idxno=1207533, 안전 환경에 대한 평가도 자연재해와 건축물 및 시설물, <b>교통사고</b> 등 모든 분야가 <b>서울시</b> 평균보다 높았다. 이는 '2024 서울 서베이' 결과에서도 확인할 수 있다. '서울 서베이' 조사에서 '보도 통행시 겪은 불편함'에 대한... , Tue, 22 Apr 2025 16:26:00 +0900, None), NaverNews(None, <b>서울시</b>, 청계천서 수질오염<b>사고</b> 대비 방제훈련 실시…현장대응 능력 향..., https://www.gukjenews.com/news/articleView.html?idxno=3259673, https://www.gukjenews.com/news/articleView.html?idxno=3259673, <b>서울시</b>청 전경 (사진/<b>서울시</b> 제공) <b>서울시</b>는 지난 24일 성동구 신답역 청계천 하류에서 '수질오염<b>사고</b> 대응... 현장 훈련은 차량 <b>교통사고</b>로 인해 유류가 하천으로 유입된 상황을 가정하여 ▸<b>사고</b> 접수 및 상황전파·보고... , Fri, 25 Apr 2025 10:42:00 +0900, None), NaverNews(None, <b>서울시</b>, 청계천서 수질오염<b>사고</b> 대비 방제훈련 실시, https://idsn.co.kr/news/view/1065572383525506, https://idsn.co.kr/news/view/1065572383525506, ▲2025년 방제훈련 사진 (사진=<b>서울시</b> 제공) <b>서울시</b>가 청계천에서 수질오염<b>사고</b>를 대비해 방제훈련을... 현장 훈련은 차량 <b>교통사고</b>로 인해 유류가 하천으로 유입된 상황을 가정하여 ▲<b>사고</b> 접수 및 상황전파·보고... , Fri, 25 Apr 2025 09:36:00 +0900, None), NaverNews(None, 마포구, 통계청 생활 만족도 조사 <b>서울시</b> 자치구 1위, http://www.m-i.kr/news/articleView.html?idxno=1231170, http://www.m-i.kr/news/articleView.html?idxno=1231170, 안전 환경에 대한 평가도 자연재해와 건축물 및 시설물, <b>교통사고</b> 등 모든 분야가 <b>서울시</b> 평균보다 높았다. 이는 '2024 서울 서베이' 결과에서도 확인할 수 있다. '서울 서베이' 조사에서 '보도 통행시 겪은 불편함'에 대한... , Tue, 22 Apr 2025 10:28:00 +0900, None), NaverNews(None, 마포구, <b>서울시</b> 생활만족도 1위… 임신·양육 복지도 최고, https://m.skyedaily.com/news_view.html?ID=270567, https://m.skyedaily.com/news_view.html?ID=270567, 안전 환경에 대한 평가도 자연재해와 건축물 및 시설물, <b>교통사고</b> 등 모든 분야가 <b>서울시</b> 평균보다 높았다. ‘서울 서베이’ 조사에서 ‘보도 통행시 겪은 불편함’에 대한 질문에 자치구 중 제일 높은 비중으로 71.3%의... , Tue, 22 Apr 2025 11:28:00 +0900, None)]\n"
     ]
    }
   ],
   "execution_count": 22
  },
  {
   "metadata": {
    "ExecuteTime": {
     "end_time": "2025-04-28T00:48:50.263688Z",
     "start_time": "2025-04-28T00:48:50.259418Z"
    }
   },
   "cell_type": "code",
   "source": [
    "import mysql.connector\n",
    "\n",
    "db_config = {\n",
    "    'host': os.getenv('DB_HOST'),\n",
    "    'user': os.getenv('DB_USER'),\n",
    "    'password': os.getenv('DB_PASSWORD'),\n",
    "    'database': os.getenv('DB_NAME')\n",
    "}"
   ],
   "id": "95baeffcce19e084",
   "outputs": [],
   "execution_count": 8
  },
  {
   "metadata": {
    "ExecuteTime": {
     "end_time": "2025-04-26T10:36:13.541428Z",
     "start_time": "2025-04-26T10:36:13.524235Z"
    }
   },
   "cell_type": "code",
   "source": [
    "\n",
    "try:\n",
    "    with mysql.connector.connect(**config) as conn:\n",
    "        with conn.cursor() as cursor:\n",
    "            # naver_news객체를 한번에 한건씩 insert처리\n",
    "            for naver_news in naver_news_list:\n",
    "                cursor.execute('''\n",
    "                    insert into\n",
    "                        naver_news (title, originallink, link, description, pub_date)\n",
    "                    values (%s, %s, %s, %s, %s)\n",
    "                ''', (naver_news.title, naver_news.originallink, naver_news.link, naver_news.description, naver_news.pubDate)) # sql, params\n",
    "            # 트랜잭션 처리를 위해 모든 dml 작업후 마지막에 처리\n",
    "            conn.commit()\n",
    "except mysql.connector.Error as e:\n",
    "    print('DB 오류:', e)"
   ],
   "id": "1f3862f7a3e0a7a6",
   "outputs": [],
   "execution_count": 24
  },
  {
   "metadata": {
    "ExecuteTime": {
     "end_time": "2025-04-28T01:53:58.280526Z",
     "start_time": "2025-04-28T01:53:58.262603Z"
    }
   },
   "cell_type": "code",
   "source": [
    "try:\n",
    "    with mysql.connector.connect(**config) as conn:\n",
    "        with conn.cursor() as cursor:\n",
    "            # 테이블 안에 있는 모든 데이터 삭제\n",
    "            cursor.execute('DELETE FROM naver_news')\n",
    "\n",
    "            # 삭제한 내용을 데이터베이스에 확정\n",
    "            conn.commit()\n",
    "except mysql.connector.Error as e:\n",
    "    print('DB 오류:', e)"
   ],
   "id": "40a53584eb674a7d",
   "outputs": [],
   "execution_count": 9
  },
  {
   "metadata": {
    "ExecuteTime": {
     "end_time": "2025-04-26T10:46:29.877902Z",
     "start_time": "2025-04-26T10:46:29.871885Z"
    }
   },
   "cell_type": "code",
   "source": [
    "# import openai -- > 실패\n",
    "# from newspaper import Article\n",
    "#\n",
    "# # OpenAI API 키 설정\n",
    "# openai.api_key =-OPENAI-API-KEY'\n",
    "#\n",
    "# import requests\n",
    "# from bs4 import BeautifulSoup\n",
    "#\n",
    "# def get_naver_article_text(url):\n",
    "#     headers = {'User-Agent': 'Mozilla/5.0'}\n",
    "#     res = requests.get(url, headers=headers)\n",
    "#     soup = BeautifulSoup(res.text, 'html.parser')\n",
    "#     # 본문이 들어있는 div#dic_area\n",
    "#     article_div = soup.find('div', id='dic_area')\n",
    "#     if not article_div:\n",
    "#         raise ValueError(\"본문 영역을 찾을 수 없습니다.\")\n",
    "#     # p 태그 텍스트만 모아서\n",
    "#     paragraphs = [p.get_text(strip=True) for p in article_div.find_all('p')]\n",
    "#     return \"\\n\".join(paragraphs)"
   ],
   "id": "f5fbea453153b0b0",
   "outputs": [],
   "execution_count": 26
  },
  {
   "metadata": {},
   "cell_type": "code",
   "outputs": [],
   "execution_count": null,
   "source": "",
   "id": "f717c6a7564a2f"
  },
  {
   "metadata": {},
   "cell_type": "markdown",
   "source": [
    "```sql\n",
    "drop table transit_news\n",
    "```\n"
   ],
   "id": "7cc2b9f977d3f0df"
  },
  {
   "metadata": {},
   "cell_type": "code",
   "outputs": [],
   "execution_count": null,
   "source": "",
   "id": "40c2e576d18e695"
  }
 ],
 "metadata": {
  "kernelspec": {
   "display_name": "Python 3",
   "language": "python",
   "name": "python3"
  },
  "language_info": {
   "codemirror_mode": {
    "name": "ipython",
    "version": 2
   },
   "file_extension": ".py",
   "mimetype": "text/x-python",
   "name": "python",
   "nbconvert_exporter": "python",
   "pygments_lexer": "ipython2",
   "version": "2.7.6"
  }
 },
 "nbformat": 4,
 "nbformat_minor": 5
}

{
 "cells": [
  {
   "cell_type": "code",
   "id": "initial_id",
   "metadata": {
    "collapsed": true,
    "ExecuteTime": {
     "end_time": "2025-04-28T04:52:07.444244Z",
     "start_time": "2025-04-28T04:52:07.438052Z"
    }
   },
   "source": [
    "import openai\n",
    "from dotenv import load_dotenv\n",
    "import os\n",
    "\n",
    "load_dotenv()\n",
    "NAVER_CLIENT_ID = os.getenv(\"NAVER_CLIENT_ID\")\n",
    "NAVER_CLIENT_SECRET = os.getenv(\"NAVER_CLIENT_SECRET\")\n",
    "OPENAI_API_KEY = os.getenv(\"OPEN_AI_API\")"
   ],
   "outputs": [],
   "execution_count": 7
  },
  {
   "metadata": {
    "ExecuteTime": {
     "end_time": "2025-04-28T04:54:18.267336Z",
     "start_time": "2025-04-28T04:54:18.261002Z"
    }
   },
   "cell_type": "code",
   "source": [
    "test_text = \"\"\"자경위와 서울경찰청은 고령 운전자를 양보·배려하는 교통안전 문화 확산하기 위해 '어르신 운전중' 표지 4600매를 제작해 5월부터 캠페인, 찾아가는 안전교육, 사회관계망서비스(SNS) 이벤트 등 다양한 방법을 통해 배부할 예정이라고 28일 밝혔다.\n",
    "\n",
    "\n",
    "\n",
    "'어르신 운전중' 표지는 고령 운전자가 운전 중임을 다른 차량 운전자가 알아볼 수 있도록 2023년 도로교통법 개정으로 도입된 제도다. 시는 '5월 가정의 달'을 맞아 캠페인, 찾아가는 안전교육, 사회관계망서비스(SNS) 등을 통해 배부할 예정이라고 설명했다.\n",
    "\n",
    "이러한 조치는 고령 운전자 교통사고 증가에 대응하기 위한 노력의 일환이다. 지난해 서울시의 65세 이상 고령 운전자 교통사고 건수는 전년 대비 5.6% 증가한 것으로 나타났다. 특히, 사망자 수는 57.1% 급증했다.\n",
    "\n",
    "실제 '어르신 운전중' 표지 부착 효과도 확인되고 있다. 지난해 한국교통안전공단 조사에 따르면 표지를 부착한 65세 이상 고령 운전자들은 ▲'운전자 안전성 향상에 도움이 된다' 65% ▲'타 운전자의 양보 및 배려 운전을 경험했다' 67%라고 응답했다. 또 일반 시민들은 ▲'고령 운전자 표지 부착 차량에 대해 배려할 의향이 있다' 93% ▲'표지가 고령 운전자 교통사고 예방을 위해 필요하다' 84%로 답했다.\n",
    "\n",
    "\n",
    "\n",
    "아울러 서울경찰청은 고령 운전자 및 보행자를 대상으로 '찾아가는 안전교육'을 추진하고 있다고 밝혔다. 교육 내용은 ▲가상체험 고글 활용 체험형 음주·약물운전 교육 ▲운전면허 반납 제도 안내 ▲어르신 운전중 표지 홍보 등이다.\n",
    "\n",
    "또 서울시는 주민등록된 70세 이상 운전면허 소지자가 거주지 동주민센터에서 운전면허증을 자진 반납하면 20만원이 충전된 교통카드를 지급하는 등 고령 운전자 사고 예방을 위한 실효성 있는 대책을 마련하고 있다고 전했다.\n",
    "\n",
    "이용표 서울시 자치경찰위원장은 \"고령 운전자의 면허 반납이 어려운 것은 거주지와 대중교통 간 거리 등 불편한 교통환경 때문\"이라며 \"근본적인 대책이 마련되기 전까지는 '찾아가는 교통안전 교육'과 '어르신 운전중' 표지를 통해 고령 운전자 안전과 배려 문화 확산에 힘쓰겠다\"고 밝혔다.\n",
    "\"\"\"\n",
    "import openai\n",
    "\n",
    "def summarize_text(text: str) -> str:\n",
    "    try:\n",
    "        lines = text.splitlines()\n",
    "\n",
    "        cleaned_lines = []\n",
    "        for line in lines:\n",
    "            line = line.strip()\n",
    "            if len(line) > 30:\n",
    "                cleaned_lines.append(line)\n",
    "\n",
    "        cleaned_text = \"\\n\".join(cleaned_lines)\n",
    "\n",
    "        max_chars = 8000\n",
    "        if len(cleaned_text) > max_chars:\n",
    "            cleaned_text = cleaned_text[:max_chars]\n",
    "\n",
    "        prompt = f\"\"\"\n",
    "        다음 웹페이지 텍스트를 읽고 중요 기사 내용만 3줄로 요약해줘.\n",
    "        메뉴, 광고, 댓글, 저작권 문구는 무시해줘.\n",
    "\n",
    "        {cleaned_text}\n",
    "        \"\"\"\n",
    "\n",
    "        response = openai.ChatCompletion.create(\n",
    "            model=\"gpt-3.5-turbo\",\n",
    "            messages=[{\"role\": \"user\", \"content\": prompt}],\n",
    "            temperature=0.5,\n",
    "        )\n",
    "\n",
    "        summary = response['choices'][0]['message']['content'].strip()\n",
    "        return summary\n",
    "\n",
    "    except Exception as e:  # 여기서 그냥 Exception만 써\n",
    "        print(f\"요약 실패: {e}\")\n",
    "        return \"요약에 실패했습니다.\"\n"
   ],
   "id": "dbbc58591cda8f91",
   "outputs": [],
   "execution_count": 9
  },
  {
   "metadata": {
    "ExecuteTime": {
     "end_time": "2025-04-28T05:06:45.409606Z",
     "start_time": "2025-04-28T05:06:45.404377Z"
    }
   },
   "cell_type": "code",
   "source": "print(summarize_text(test_text))",
   "id": "106e581b9fd6c058",
   "outputs": [
    {
     "name": "stdout",
     "output_type": "stream",
     "text": [
      "요약 실패: \n",
      "\n",
      "You tried to access openai.ChatCompletion, but this is no longer supported in openai>=1.0.0 - see the README at https://github.com/openai/openai-python for the API.\n",
      "\n",
      "You can run `openai migrate` to automatically upgrade your codebase to use the 1.0.0 interface. \n",
      "\n",
      "Alternatively, you can pin your installation to the old version, e.g. `pip install openai==0.28`\n",
      "\n",
      "A detailed migration guide is available here: https://github.com/openai/openai-python/discussions/742\n",
      "\n",
      "요약에 실패했습니다.\n"
     ]
    }
   ],
   "execution_count": 11
  },
  {
   "metadata": {},
   "cell_type": "code",
   "outputs": [],
   "execution_count": null,
   "source": "",
   "id": "f88153c5cde95839"
  }
 ],
 "metadata": {
  "kernelspec": {
   "display_name": "Python 3",
   "language": "python",
   "name": "python3"
  },
  "language_info": {
   "codemirror_mode": {
    "name": "ipython",
    "version": 2
   },
   "file_extension": ".py",
   "mimetype": "text/x-python",
   "name": "python",
   "nbconvert_exporter": "python",
   "pygments_lexer": "ipython2",
   "version": "2.7.6"
  }
 },
 "nbformat": 4,
 "nbformat_minor": 5
}

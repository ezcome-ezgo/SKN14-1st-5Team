{
 "cells": [
  {
   "cell_type": "code",
   "id": "initial_id",
   "metadata": {
    "collapsed": true,
    "ExecuteTime": {
     "end_time": "2025-04-27T15:16:30.306215Z",
     "start_time": "2025-04-27T15:16:28.348842Z"
    }
   },
   "source": "!pip install pandas",
   "outputs": [
    {
     "name": "stdout",
     "output_type": "stream",
     "text": [
      "Requirement already satisfied: pandas in c:\\users\\play data\\miniconda3\\envs\\pystudy_env\\lib\\site-packages (2.2.3)\n",
      "Requirement already satisfied: numpy>=1.26.0 in c:\\users\\play data\\miniconda3\\envs\\pystudy_env\\lib\\site-packages (from pandas) (2.2.4)\n",
      "Requirement already satisfied: python-dateutil>=2.8.2 in c:\\users\\play data\\miniconda3\\envs\\pystudy_env\\lib\\site-packages (from pandas) (2.9.0.post0)\n",
      "Requirement already satisfied: pytz>=2020.1 in c:\\users\\play data\\miniconda3\\envs\\pystudy_env\\lib\\site-packages (from pandas) (2025.2)\n",
      "Requirement already satisfied: tzdata>=2022.7 in c:\\users\\play data\\miniconda3\\envs\\pystudy_env\\lib\\site-packages (from pandas) (2025.2)\n",
      "Requirement already satisfied: six>=1.5 in c:\\users\\play data\\miniconda3\\envs\\pystudy_env\\lib\\site-packages (from python-dateutil>=2.8.2->pandas) (1.17.0)\n"
     ]
    }
   ],
   "execution_count": 1
  },
  {
   "metadata": {
    "ExecuteTime": {
     "end_time": "2025-04-27T15:28:24.322588Z",
     "start_time": "2025-04-27T15:28:23.952720Z"
    }
   },
   "cell_type": "code",
   "source": [
    "import pandas as pd\n",
    "\n",
    "# utf-8로 읽기 #cp949 자꾸 오류나서 utf-8로 코드 수정\n",
    "df = pd.read_csv('car_accident.csv', encoding='utf-8')\n",
    "\n",
    "# utf-8로 저장\n",
    "df.to_csv('car_accident_real.csv', index=False, encoding='utf-8')\n"
   ],
   "id": "2a7f24437e7d4ce6",
   "outputs": [],
   "execution_count": 7
  },
  {
   "metadata": {
    "ExecuteTime": {
     "end_time": "2025-04-27T15:16:36.362029Z",
     "start_time": "2025-04-27T15:16:36.354364Z"
    }
   },
   "cell_type": "code",
   "source": [
    "import os\n",
    "print(os.getcwd())"
   ],
   "id": "d007df7c4645c12",
   "outputs": [
    {
     "name": "stdout",
     "output_type": "stream",
     "text": [
      "C:\\Workspaces\\first_project\\first_project_workspace\\first_project\\data\n"
     ]
    }
   ],
   "execution_count": 4
  },
  {
   "metadata": {
    "ExecuteTime": {
     "end_time": "2025-04-27T15:28:54.891269Z",
     "start_time": "2025-04-27T15:28:54.758731Z"
    }
   },
   "cell_type": "code",
   "source": [
    "df = pd.read_csv('./car_accident.csv', encoding='utf-8')\n",
    "print(df.head())"
   ],
   "id": "a87794fb378e8ead",
   "outputs": [
    {
     "name": "stdout",
     "output_type": "stream",
     "text": [
      "   교통사고이력ID(사고기록 순서)         발생년월일시 주야코드 요일코드  사망자수  부상자수 발생지시도코드 발생지시도코드.1  \\\n",
      "0                  1  2012-01-01 01   야간    일     1     1      서울       은평구   \n",
      "1                  2  2012-01-01 01   야간    일     1     6      전북       정읍시   \n",
      "2                  3  2012-01-01 08   주간    일     1     1      충남       청양군   \n",
      "3                  4  2012-01-01 10   주간    일     2     2      경남       합천군   \n",
      "4                  5  2012-01-01 03   야간    일     1     1      경북       예천군   \n",
      "\n",
      "  사고유형대분류코드 사고유형중분류코드       법규위반코드  \n",
      "0      차대사람     차도통행중  안전운전 의무 불이행  \n",
      "1       차대차      정면충돌       중앙선 침범  \n",
      "2      차량단독     공작물충돌  안전운전 의무 불이행  \n",
      "3       차대차      측면충돌           과속  \n",
      "4      차량단독      도로이탈  안전운전 의무 불이행  \n"
     ]
    }
   ],
   "execution_count": 8
  },
  {
   "metadata": {
    "ExecuteTime": {
     "end_time": "2025-04-27T15:29:00.191132Z",
     "start_time": "2025-04-27T15:29:00.111480Z"
    }
   },
   "cell_type": "code",
   "source": [
    "print(df.info())      # 데이터 타입, 결측치, 컬럼 정보 등 요약\n",
    "print(df.describe())  # 수치형 데이터의 통계 요약\n",
    "print(df.head())      # 상위 5개 행 확인\n",
    "print(df.tail())      # 하위 5개 행 확인"
   ],
   "id": "3891e8ff7778bebf",
   "outputs": [
    {
     "name": "stdout",
     "output_type": "stream",
     "text": [
      "<class 'pandas.core.frame.DataFrame'>\n",
      "RangeIndex: 42602 entries, 0 to 42601\n",
      "Data columns (total 11 columns):\n",
      " #   Column             Non-Null Count  Dtype \n",
      "---  ------             --------------  ----- \n",
      " 0   교통사고이력ID(사고기록 순서)  42602 non-null  int64 \n",
      " 1   발생년월일시             42602 non-null  object\n",
      " 2   주야코드               42602 non-null  object\n",
      " 3   요일코드               42602 non-null  object\n",
      " 4   사망자수               42602 non-null  int64 \n",
      " 5   부상자수               42602 non-null  int64 \n",
      " 6   발생지시도코드            42602 non-null  object\n",
      " 7   발생지시도코드.1          42602 non-null  object\n",
      " 8   사고유형대분류코드          42602 non-null  object\n",
      " 9   사고유형중분류코드          42602 non-null  object\n",
      " 10  법규위반코드             42602 non-null  object\n",
      "dtypes: int64(3), object(8)\n",
      "memory usage: 3.6+ MB\n",
      "None\n",
      "       교통사고이력ID(사고기록 순서)          사망자수          부상자수\n",
      "count       42602.000000  42602.000000  42602.000000\n",
      "mean        21304.477677      1.037651      1.589339\n",
      "std         12302.416896      0.239500      1.966770\n",
      "min             1.000000      1.000000      1.000000\n",
      "25%         10651.250000      1.000000      1.000000\n",
      "50%         21301.500000      1.000000      1.000000\n",
      "75%         31951.750000      1.000000      2.000000\n",
      "max         42617.000000     10.000000    105.000000\n",
      "   교통사고이력ID(사고기록 순서)         발생년월일시 주야코드 요일코드  사망자수  부상자수 발생지시도코드 발생지시도코드.1  \\\n",
      "0                  1  2012-01-01 01   야간    일     1     1      서울       은평구   \n",
      "1                  2  2012-01-01 01   야간    일     1     6      전북       정읍시   \n",
      "2                  3  2012-01-01 08   주간    일     1     1      충남       청양군   \n",
      "3                  4  2012-01-01 10   주간    일     2     2      경남       합천군   \n",
      "4                  5  2012-01-01 03   야간    일     1     1      경북       예천군   \n",
      "\n",
      "  사고유형대분류코드 사고유형중분류코드       법규위반코드  \n",
      "0      차대사람     차도통행중  안전운전 의무 불이행  \n",
      "1       차대차      정면충돌       중앙선 침범  \n",
      "2      차량단독     공작물충돌  안전운전 의무 불이행  \n",
      "3       차대차      측면충돌           과속  \n",
      "4      차량단독      도로이탈  안전운전 의무 불이행  \n",
      "       교통사고이력ID(사고기록 순서)         발생년월일시 주야코드 요일코드  사망자수  부상자수 발생지시도코드  \\\n",
      "42597              42613  2022-12-07 10   주간    수     1     1      경기   \n",
      "42598              42614  2022-12-26 21   야간    월     1     2      경기   \n",
      "42599              42615  2022-12-26 20   야간    월     1     1      경기   \n",
      "42600              42616  2022-12-29 14   주간    목     1     1      경기   \n",
      "42601              42617  2022-12-18 13   주간    일     1    10      경기   \n",
      "\n",
      "      발생지시도코드.1 사고유형대분류코드 사고유형중분류코드       법규위반코드  \n",
      "42597       평택시      차대사람       횡단중  보행자 보호의무 위반  \n",
      "42598       평택시       차대차        추돌  안전운전 의무 불이행  \n",
      "42599       평택시      차량단독        전도  안전운전 의무 불이행  \n",
      "42600       평택시      차량단독        기타  안전운전 의무 불이행  \n",
      "42601       안양시       차대차        추돌     안전거리 미확보  \n"
     ]
    }
   ],
   "execution_count": 9
  },
  {
   "metadata": {
    "ExecuteTime": {
     "end_time": "2025-04-27T15:29:03.983747Z",
     "start_time": "2025-04-27T15:29:03.944461Z"
    }
   },
   "cell_type": "code",
   "source": "df.isnull().sum() #null값 확인",
   "id": "f7ad180f27826a60",
   "outputs": [
    {
     "data": {
      "text/plain": [
       "교통사고이력ID(사고기록 순서)    0\n",
       "발생년월일시               0\n",
       "주야코드                 0\n",
       "요일코드                 0\n",
       "사망자수                 0\n",
       "부상자수                 0\n",
       "발생지시도코드              0\n",
       "발생지시도코드.1            0\n",
       "사고유형대분류코드            0\n",
       "사고유형중분류코드            0\n",
       "법규위반코드               0\n",
       "dtype: int64"
      ]
     },
     "execution_count": 10,
     "metadata": {},
     "output_type": "execute_result"
    }
   ],
   "execution_count": 10
  },
  {
   "metadata": {
    "ExecuteTime": {
     "end_time": "2025-04-27T15:30:04.467002Z",
     "start_time": "2025-04-27T15:30:04.432902Z"
    }
   },
   "cell_type": "code",
   "source": [
    "#발생년월시 칼럼을 str로 변환. 후에 연도만 뽑을거면 .dt.year/월 뽑을 땐 .dt.mont\n",
    "df['발생년월일시'] = pd.to_datetime(df['발생년월일시'])"
   ],
   "id": "ad0768880032a661",
   "outputs": [],
   "execution_count": 11
  },
  {
   "metadata": {
    "ExecuteTime": {
     "end_time": "2025-04-27T15:34:11.821684Z",
     "start_time": "2025-04-27T15:34:11.774010Z"
    }
   },
   "cell_type": "code",
   "source": [
    "df = df.rename(columns={\n",
    "    '교통사고이력ID(사고기록 순서)': 'id',\n",
    "    '발생년월일시': 'datetime',\n",
    "    '주야코드': 'daynight',\n",
    "    '요일코드': 'weekday',\n",
    "    '사망자수': 'dead',\n",
    "    '부상자수': 'hurt',\n",
    "    '발생지시도코드': 'region1',\n",
    "    '발생지시도코드.1': 'region2',\n",
    "    '사고유형대분류코드': 'type_main',\n",
    "    '사고유형중분류코드': 'type_sub',\n",
    "    '법규위반코드': 'law'\n",
    "})\n"
   ],
   "id": "9912d268f516f6f6",
   "outputs": [],
   "execution_count": 12
  },
  {
   "metadata": {
    "ExecuteTime": {
     "end_time": "2025-04-27T15:34:17.913669Z",
     "start_time": "2025-04-27T15:34:17.814511Z"
    }
   },
   "cell_type": "code",
   "source": "print(df.info())",
   "id": "bae612520efe1a4b",
   "outputs": [
    {
     "name": "stdout",
     "output_type": "stream",
     "text": [
      "<class 'pandas.core.frame.DataFrame'>\n",
      "RangeIndex: 42602 entries, 0 to 42601\n",
      "Data columns (total 11 columns):\n",
      " #   Column     Non-Null Count  Dtype         \n",
      "---  ------     --------------  -----         \n",
      " 0   id         42602 non-null  int64         \n",
      " 1   datetime   42602 non-null  datetime64[ns]\n",
      " 2   daynight   42602 non-null  object        \n",
      " 3   weekday    42602 non-null  object        \n",
      " 4   dead       42602 non-null  int64         \n",
      " 5   hurt       42602 non-null  int64         \n",
      " 6   region1    42602 non-null  object        \n",
      " 7   region2    42602 non-null  object        \n",
      " 8   type_main  42602 non-null  object        \n",
      " 9   type_sub   42602 non-null  object        \n",
      " 10  law        42602 non-null  object        \n",
      "dtypes: datetime64[ns](1), int64(3), object(7)\n",
      "memory usage: 3.6+ MB\n",
      "None\n"
     ]
    }
   ],
   "execution_count": 13
  },
  {
   "metadata": {
    "ExecuteTime": {
     "end_time": "2025-04-27T15:35:00.556261Z",
     "start_time": "2025-04-27T15:35:00.549537Z"
    }
   },
   "cell_type": "code",
   "source": "print(df.columns)",
   "id": "91792e1031a1ee7a",
   "outputs": [
    {
     "name": "stdout",
     "output_type": "stream",
     "text": [
      "Index(['id', 'datetime', 'daynight', 'weekday', 'dead', 'hurt', 'region1',\n",
      "       'region2', 'type_main', 'type_sub', 'law'],\n",
      "      dtype='object')\n"
     ]
    }
   ],
   "execution_count": 14
  },
  {
   "metadata": {
    "ExecuteTime": {
     "end_time": "2025-04-27T15:36:27.558875Z",
     "start_time": "2025-04-27T15:36:27.513348Z"
    }
   },
   "cell_type": "code",
   "source": [
    "#가장 최근 연도(최댓값)구해서 최근 5년치 연도 리스트 생성\n",
    "max_year = df['datetime'].dt.year.max()\n",
    "print(max_year)\n",
    "recent_year = list(range(max_year, max_year-5, -1))\n",
    "print(recent_year)\n"
   ],
   "id": "db6e4f1df7624174",
   "outputs": [
    {
     "name": "stdout",
     "output_type": "stream",
     "text": [
      "2022\n",
      "[2022, 2021, 2020, 2019, 2018]\n"
     ]
    }
   ],
   "execution_count": 16
  },
  {
   "metadata": {
    "ExecuteTime": {
     "end_time": "2025-04-27T15:36:30.302581Z",
     "start_time": "2025-04-27T15:36:30.298632Z"
    }
   },
   "cell_type": "code",
   "source": [
    "# import pandas as pd\n",
    "#\n",
    "# # 기존 파일 읽기\n",
    "# df = pd.read_csv('data.csv')\n",
    "#\n",
    "# # 전처리\n",
    "# df = df.dropna()  # 예를 들어 결측치 제거\n",
    "#\n",
    "# # 전처리한 결과를 저장\n",
    "# df.to_csv('data_cleaned.csv', index=False, encoding='utf-8-sig')"
   ],
   "id": "ffcf2a5c94ac3b3c",
   "outputs": [],
   "execution_count": 17
  },
  {
   "metadata": {},
   "cell_type": "markdown",
   "source": "### 전처리한 데이터를 새로운 파일로 저장",
   "id": "d2d44f706ae2a9c8"
  },
  {
   "metadata": {
    "ExecuteTime": {
     "end_time": "2025-04-27T15:37:31.473575Z",
     "start_time": "2025-04-27T15:37:31.248654Z"
    }
   },
   "cell_type": "code",
   "source": [
    "import pandas as pd\n",
    "\n",
    "# # 1. 파일 불러오기\n",
    "# df = pd.read_csv('car_accident.csv', encoding='utf-8')\n",
    "#\n",
    "# # 2. 데이터 전처리\n",
    "# # 예시: 결측치 있는 행 삭제\n",
    "# df = df.dropna()\n",
    "\n",
    "# 3. 전처리한 데이터를 새 파일로 저장\n",
    "df.to_csv('car_accident_cleaned.csv', index=False, encoding='utf-8-sig')\n"
   ],
   "id": "5400ff5c072ff3df",
   "outputs": [],
   "execution_count": 18
  },
  {
   "metadata": {
    "ExecuteTime": {
     "end_time": "2025-04-27T15:37:34.437728Z",
     "start_time": "2025-04-27T15:37:34.418986Z"
    }
   },
   "cell_type": "code",
   "source": "print(df.head())",
   "id": "e533821fe6aad4fa",
   "outputs": [
    {
     "name": "stdout",
     "output_type": "stream",
     "text": [
      "   id            datetime daynight weekday  dead  hurt region1 region2  \\\n",
      "0   1 2012-01-01 01:00:00       야간       일     1     1      서울     은평구   \n",
      "1   2 2012-01-01 01:00:00       야간       일     1     6      전북     정읍시   \n",
      "2   3 2012-01-01 08:00:00       주간       일     1     1      충남     청양군   \n",
      "3   4 2012-01-01 10:00:00       주간       일     2     2      경남     합천군   \n",
      "4   5 2012-01-01 03:00:00       야간       일     1     1      경북     예천군   \n",
      "\n",
      "  type_main type_sub          law  \n",
      "0      차대사람    차도통행중  안전운전 의무 불이행  \n",
      "1       차대차     정면충돌       중앙선 침범  \n",
      "2      차량단독    공작물충돌  안전운전 의무 불이행  \n",
      "3       차대차     측면충돌           과속  \n",
      "4      차량단독     도로이탈  안전운전 의무 불이행  \n"
     ]
    }
   ],
   "execution_count": 19
  },
  {
   "metadata": {},
   "cell_type": "code",
   "outputs": [],
   "execution_count": null,
   "source": "",
   "id": "d32070e30e33ad09"
  }
 ],
 "metadata": {
  "kernelspec": {
   "display_name": "Python 3",
   "language": "python",
   "name": "python3"
  },
  "language_info": {
   "codemirror_mode": {
    "name": "ipython",
    "version": 2
   },
   "file_extension": ".py",
   "mimetype": "text/x-python",
   "name": "python",
   "nbconvert_exporter": "python",
   "pygments_lexer": "ipython2",
   "version": "2.7.6"
  }
 },
 "nbformat": 4,
 "nbformat_minor": 5
}
